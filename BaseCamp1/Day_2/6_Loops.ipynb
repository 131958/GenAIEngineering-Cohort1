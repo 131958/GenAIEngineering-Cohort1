{
 "cells": [
  {
   "cell_type": "code",
   "execution_count": null,
   "metadata": {},
   "outputs": [],
   "source": [
    "# For loop in a bounded range. Range function provides numerical range\n",
    "for idx in range (10) :\n",
    "    print (idx)"
   ]
  },
  {
   "cell_type": "code",
   "execution_count": null,
   "metadata": {},
   "outputs": [],
   "source": [
    "# Use the range function with start, stop, step params\n",
    "for idx in range (10, 50, 5) :\n",
    "    print (idx)"
   ]
  },
  {
   "cell_type": "code",
   "execution_count": null,
   "metadata": {},
   "outputs": [],
   "source": [
    "# While loop with an entry condition. Ensure it does not become infinite loop\n",
    "# Note : Infinite loop itself has specific use cases, where it is required : For example a thread that needs to poll periodically.\n",
    "count = 0\n",
    "\n",
    "while (count < 10) :\n",
    "    print (count)\n",
    "    count += 1\n"
   ]
  },
  {
   "cell_type": "code",
   "execution_count": null,
   "metadata": {},
   "outputs": [],
   "source": [
    "# Use the break statement to exit from the loop based on a condition\n",
    "for idx in range (100) :\n",
    "\n",
    "    print (idx)\n",
    "\n",
    "    # Condition : When above 10 and divisible by 5, exit the loop\n",
    "    if (idx > 10 and idx % 5 == 0):\n",
    "        break\n",
    "\n",
    "    print ('Condition Checked')"
   ]
  },
  {
   "cell_type": "code",
   "execution_count": null,
   "metadata": {},
   "outputs": [],
   "source": [
    "# Use the continue statement to go to the next iteration of loop based on a condition\n",
    "for idx in range (10) :\n",
    "\n",
    "    print (idx)\n",
    "\n",
    "    # Condition : When above 5 and even, go to next iteration\n",
    "    if (idx > 5 and idx % 2 == 0):\n",
    "        continue\n",
    "\n",
    "    print ('Condition Checked')"
   ]
  }
 ],
 "metadata": {
  "kernelspec": {
   "display_name": "Python 3",
   "language": "python",
   "name": "python3"
  },
  "language_info": {
   "codemirror_mode": {
    "name": "ipython",
    "version": 3
   },
   "file_extension": ".py",
   "mimetype": "text/x-python",
   "name": "python",
   "nbconvert_exporter": "python",
   "pygments_lexer": "ipython3",
   "version": "3.12.8"
  }
 },
 "nbformat": 4,
 "nbformat_minor": 2
}
