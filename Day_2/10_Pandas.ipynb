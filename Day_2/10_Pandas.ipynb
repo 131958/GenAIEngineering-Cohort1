{
 "cells": [
  {
   "cell_type": "markdown",
   "metadata": {},
   "source": [
    "### Pandas\n",
    "pandas a python library that is extensively used for data analytics, ML and other Data fields  \n",
    "It provides possibility to organise data into something called Dataframe, which acts as a table of data (2D)  \n",
    "It is organised into rows and columns with named indices"
   ]
  },
  {
   "cell_type": "code",
   "execution_count": 1,
   "metadata": {},
   "outputs": [],
   "source": [
    "import pandas as pd"
   ]
  },
  {
   "cell_type": "code",
   "execution_count": null,
   "metadata": {},
   "outputs": [],
   "source": [
    "# Create a data frame using the pandas function\n",
    "DF = pd.DataFrame ({\n",
    "                    'Name' : ['Vishnu', \"Ram\", 'Bharat'], \n",
    "                    'Id' : [234, 201, 78],\n",
    "                    'Course' : ['ML', 'GenAI', \"Python\"],\n",
    "                    'Batch' : ['C1', 'C2', 'C1']})\n",
    "DF"
   ]
  },
  {
   "cell_type": "code",
   "execution_count": null,
   "metadata": {},
   "outputs": [],
   "source": [
    "# Let us understand how is it organised\n",
    "print (\"Data type : \\n\", DF.dtypes)\n",
    "\n",
    "print (\"Index : \\n\", DF.index)\n",
    "\n",
    "print (\"Number of Records : \\n\", len(DF))\n",
    "\n",
    "print (\"Number of Fields : \\n\", len(DF.columns))"
   ]
  },
  {
   "cell_type": "code",
   "execution_count": null,
   "metadata": {},
   "outputs": [],
   "source": [
    "# Access specific Column\n",
    "Names = DF['Name']\n",
    "\n",
    "print (\"Type : \\n\", type (Names))\n",
    "print (\"Content : \\n\",  Names)"
   ]
  },
  {
   "cell_type": "code",
   "execution_count": null,
   "metadata": {},
   "outputs": [],
   "source": [
    "# Access specific Row\n",
    "Rec_1 = DF.iloc [1] # Access a row based on the index position\n",
    "\n",
    "print (\"Type : \\n\", type (Rec_1))\n",
    "print (\"Content : \\n\",  Rec_1)"
   ]
  },
  {
   "cell_type": "code",
   "execution_count": null,
   "metadata": {},
   "outputs": [],
   "source": [
    "# Make specific Column in a data frame\n",
    "Names = DF[['Name']]\n",
    "\n",
    "print (\"Type : \\n\", type (Names))\n",
    "print (\"Content : \\n\",  Names)"
   ]
  },
  {
   "cell_type": "code",
   "execution_count": null,
   "metadata": {},
   "outputs": [],
   "source": [
    "# Filter out rows based on condition\n",
    "Filtered = DF[DF['Batch'] == 'C1']\n",
    "Filtered"
   ]
  },
  {
   "cell_type": "code",
   "execution_count": null,
   "metadata": {},
   "outputs": [],
   "source": [
    "# Update an exising column values : just an assignment\n",
    "DF['Id'] = [145, 156, 88]\n",
    "DF"
   ]
  },
  {
   "cell_type": "code",
   "execution_count": null,
   "metadata": {},
   "outputs": [],
   "source": [
    "# Add another column, again just like a variable assignment\n",
    "DF ['Score'] = [78, 85, 80]\n",
    "DF"
   ]
  },
  {
   "cell_type": "code",
   "execution_count": null,
   "metadata": {},
   "outputs": [],
   "source": [
    "# Add Rows by concatenating\n",
    "new_rec = pd.DataFrame ({\n",
    "                        'Name' : ['Dileep', 'Phani'],\n",
    "                        'Id' : [101, 102],\n",
    "                        'Course' : ['GenAI', 'ML'],\n",
    "                        'Batch' : ['C1', 'C2'],\n",
    "                        'Score' : [80, 75]\n",
    "})\n",
    "new_rec"
   ]
  },
  {
   "cell_type": "code",
   "execution_count": null,
   "metadata": {},
   "outputs": [],
   "source": [
    "DF = pd.concat ([DF, new_rec], ignore_index=True)\n",
    "DF"
   ]
  },
  {
   "cell_type": "code",
   "execution_count": null,
   "metadata": {},
   "outputs": [],
   "source": [
    "# Aggregating functions. See how the column is accessed\n",
    "print (\"Min Score : \", DF.Score.min())\n",
    "print (\"Max Score : \", DF.Score.max())\n",
    "print (\"Mean Score : \", DF.Score.mean())\n",
    "print (\"Median Score : \", DF.Score.median())"
   ]
  },
  {
   "cell_type": "code",
   "execution_count": null,
   "metadata": {},
   "outputs": [],
   "source": [
    "# Check the Max score per course : Use Group by\n",
    "grp = DF.groupby ('Course') ['Score'].max ().rename (\"Max \")\n",
    "grp"
   ]
  },
  {
   "cell_type": "code",
   "execution_count": null,
   "metadata": {},
   "outputs": [],
   "source": [
    "# Read data from a CSV file into Data Frame\n",
    "Bhav_Copy = pd.read_csv ('sec_bhavdata_full_10032025.csv')\n",
    "print (Bhav_Copy.dtypes)"
   ]
  },
  {
   "cell_type": "code",
   "execution_count": 42,
   "metadata": {},
   "outputs": [],
   "source": [
    "# Clean the column name to remove the leading spaces\n",
    "Col = Bhav_Copy.columns\n",
    "Bhav_Copy.columns = [C.strip() for C in Col]"
   ]
  },
  {
   "cell_type": "code",
   "execution_count": null,
   "metadata": {},
   "outputs": [],
   "source": [
    "# Change the Date field to datetime type\n",
    "Bhav_Copy['DATE1'] = pd.to_datetime(Bhav_Copy['DATE1'])\n",
    "print (Bhav_Copy.dtypes)\n",
    "Bhav_Copy"
   ]
  },
  {
   "cell_type": "code",
   "execution_count": null,
   "metadata": {},
   "outputs": [],
   "source": [
    "# Filter out the Symbols where series is EQ and CLOSE_PRICE > 1000\n",
    "filtered = Bhav_Copy.loc [(Bhav_Copy['CLOSE_PRICE'] >= 1000.0) & (Bhav_Copy['SERIES'] == ' EQ'), ['SYMBOL', 'CLOSE_PRICE']]\n",
    "filtered"
   ]
  }
 ],
 "metadata": {
  "kernelspec": {
   "display_name": "Python 3",
   "language": "python",
   "name": "python3"
  },
  "language_info": {
   "codemirror_mode": {
    "name": "ipython",
    "version": 3
   },
   "file_extension": ".py",
   "mimetype": "text/x-python",
   "name": "python",
   "nbconvert_exporter": "python",
   "pygments_lexer": "ipython3",
   "version": "3.12.8"
  }
 },
 "nbformat": 4,
 "nbformat_minor": 2
}
