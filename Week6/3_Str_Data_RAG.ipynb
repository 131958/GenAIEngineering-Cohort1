{
 "cells": [
  {
   "cell_type": "markdown",
   "metadata": {},
   "source": [
    "#### Relevant Imports"
   ]
  },
  {
   "cell_type": "code",
   "execution_count": 44,
   "metadata": {},
   "outputs": [],
   "source": [
    "from sqlalchemy import create_engine, text\n",
    "import json\n",
    "from collections import defaultdict\n",
    "from typing import List, Dict, Any\n",
    "import csv\n",
    "from groq import Groq\n",
    "import dotenv\n",
    "import openai"
   ]
  },
  {
   "cell_type": "markdown",
   "metadata": {},
   "source": [
    "**SQLite DB**  \n",
    "Let us connect to the SQLite Sample Database what we have  \n"
   ]
  },
  {
   "cell_type": "code",
   "execution_count": 2,
   "metadata": {},
   "outputs": [],
   "source": [
    "# There is an engine instance created, which can handle multiple connetions\n",
    "sql_engine = create_engine(\"sqlite:///Sample_1 - Copy.db\")\n",
    "conn_1 = sql_engine.connect ()"
   ]
  },
  {
   "cell_type": "markdown",
   "metadata": {},
   "source": [
    "**Output in JSON**  \n",
    "From a specific search Criteria, SQL query is executed to get the results  \n",
    "Further this is used as context to LLM to answer a question"
   ]
  },
  {
   "cell_type": "code",
   "execution_count": null,
   "metadata": {},
   "outputs": [],
   "source": [
    "# Get the details of Service Rep for customers in a country \n",
    "Country = 'USA'\n",
    "result = conn_1.execute (text(f\"\"\"\n",
    "                                SELECT\n",
    "                                    c.FirstName || ' ' || c.LastName AS CustomerName,\n",
    "                                    c.State AS CustomerState,\n",
    "                                    c.Country AS CustomerCountry,\n",
    "                                    e.FirstName || ' ' || e.LastName AS SupportRepName,\n",
    "                                    e.State AS RepState,\n",
    "                                    e.Country AS RepCountry,\n",
    "                                    e.Email AS SupportRepEmail\n",
    "                                FROM Customer c\n",
    "                                LEFT JOIN Employee e ON c.SupportRepId = e.EmployeeId\n",
    "                                WHERE c.Country = '{Country}';  \n",
    "                              \"\"\"))\n",
    "\n",
    "# Query output into JSON\n",
    "rows = [row._asdict () for row in result]\n",
    "\n",
    "# Convert to JSON\n",
    "json_output = json.dumps(rows,  indent=2)\n",
    "print (json_output)\n"
   ]
  },
  {
   "cell_type": "markdown",
   "metadata": {},
   "source": [
    "**Use it in LLM**\n",
    "Define a Groq Client and invoke LLM to answer question  \n",
    "use the fetched information as context for query"
   ]
  },
  {
   "cell_type": "code",
   "execution_count": 59,
   "metadata": {},
   "outputs": [],
   "source": [
    "# Load Env variable and define a Groq Client\n",
    "dotenv.load_dotenv ()\n",
    "client = Groq()\n",
    "model = \"llama3-70b-8192\"\n",
    "\n",
    "# client = openai.OpenAI ()\n",
    "# model = \"gpt-4o-mini\""
   ]
  },
  {
   "cell_type": "markdown",
   "metadata": {},
   "source": [
    "> Invoke of Groq API for llama model  \n",
    "> Specific instructions are required"
   ]
  },
  {
   "cell_type": "code",
   "execution_count": null,
   "metadata": {},
   "outputs": [],
   "source": [
    "Instr = \"Using the context given, provide response to the user question or statement.\\\n",
    "        Context is provided as JSON information.\\\n",
    "        Answer to the question precisely\"\n",
    "\n",
    "Question = f\"How many services reps the {Country} customers have?\"\n",
    "# Question = f\"Who can the {Country} customers contact if they have an issue?\"\n",
    "# Question = f\"Are the service reps in same place of the customers?\"\n",
    "# Question = f\"Tell me how much time diff b/w victor and his service guy\"\n",
    "# Question = f\"Who handles more customers?\"\n",
    "\n",
    "messages=[\n",
    "    {\n",
    "        \"role\": \"system\",\n",
    "        \"content\": Instr\n",
    "    },\n",
    "\n",
    "    {\n",
    "        \"role\": \"user\",\n",
    "        \"content\":\"Context : \\n\"+ json_output + \"Query : \\n\" + Question\n",
    "    }\n",
    "]\n",
    "completion = client.chat.completions.create(\n",
    "    messages=messages,\n",
    "    model=\"llama3-70b-8192\",\n",
    "    # temperature=0.0\n",
    ")\n",
    "\n",
    "print (completion.choices[0].message.content)"
   ]
  },
  {
   "cell_type": "markdown",
   "metadata": {},
   "source": [
    "> Additional details for manager is also fetched  \n",
    "> Only contact details are gathered "
   ]
  },
  {
   "cell_type": "code",
   "execution_count": null,
   "metadata": {},
   "outputs": [],
   "source": [
    "# Get the details of Service Rep for customers in a country including the manager details\n",
    "Country = 'Canada'\n",
    "result = conn_1.execute (text(f\"\"\"\n",
    "                                SELECT\n",
    "                                    c.FirstName || ' ' || c.LastName AS CustomerName,\n",
    "                                    c.State AS CustomerState,\n",
    "                                    e.FirstName || ' ' || e.LastName AS SupportRepName,\n",
    "                                    e.Email AS SupportRepEmail,\n",
    "                                    m.FirstName || ' ' || m.LastName AS ManagerName,\n",
    "                                    m.Email AS ManagerEmail\n",
    "                                FROM Customer c\n",
    "                                LEFT JOIN Employee e ON c.SupportRepId = e.EmployeeId\n",
    "                                LEFT JOIN Employee m ON e.ReportsTo = m.EmployeeId\n",
    "                                WHERE c.Country = '{Country}';\n",
    "                              \"\"\"))\n",
    "\n",
    "# Make each row into a sentence\n",
    "rows = result.fetchall()\n",
    "context = []\n",
    "for row in rows:\n",
    "    Customer, C_State, Rep, Rep_Mail, Manager, Mgr_Mail = row\n",
    "    sentence = f\"{Customer} from state {C_State} may contact sales rep {Rep} @ {Rep_Mail}, who reports to the manager {Manager} @ {Mgr_Mail}\"\n",
    "    context.append(sentence)\n",
    "\n",
    "for line in context: \n",
    "  print (line)"
   ]
  },
  {
   "cell_type": "code",
   "execution_count": null,
   "metadata": {},
   "outputs": [],
   "source": [
    "Instr = \"Using the context given, provide response to the user question or statement.\\\n",
    "        Answer to the question precisely\"\n",
    "\n",
    "Question = f\"Tell me how is the escalation matrix organised\"\n",
    "# Question = f\"Who can the {Country} customers contact if the service support is not satisfactory\"\n",
    "# Question = f\"How many Reps report to the managers?\"\n",
    "\n",
    "messages=[\n",
    "    {\n",
    "        \"role\": \"system\",\n",
    "        \"content\": Instr\n",
    "    },\n",
    "\n",
    "    {\n",
    "        \"role\": \"user\",\n",
    "        \"content\":\"Context : \\n\"+ \"\".join(context) + \"\\nQuery : \\n\" + Question\n",
    "    }\n",
    "]\n",
    "completion = client.chat.completions.create(\n",
    "    messages=messages,\n",
    "    model=\"llama3-70b-8192\",\n",
    "    # temperature=0.0\n",
    ")\n",
    "\n",
    "print (completion.choices[0].message.content)"
   ]
  },
  {
   "cell_type": "markdown",
   "metadata": {},
   "source": [
    "**More Data**  \n",
    "Data fetched for customers invoice amount and date for each Sales Rep  \n",
    "Further this is captured in JSON"
   ]
  },
  {
   "cell_type": "code",
   "execution_count": 33,
   "metadata": {},
   "outputs": [],
   "source": [
    "def group_json_by_n_columns(data: List[Dict[str, Any]], n: int) -> Dict:\n",
    "    \n",
    "    if not data:\n",
    "        return {}\n",
    "\n",
    "    # If n is 1, there is no need for re-aligning\n",
    "    if n < 1:\n",
    "        raise ValueError(\"n must be at least 1\")\n",
    "\n",
    "    # Check if those many columns are there\n",
    "    column_keys = list(data[0].keys())\n",
    "    if n > len(column_keys):\n",
    "        raise ValueError(f\"n = {n} exceeds number of columns = {len(column_keys)}\")\n",
    "\n",
    "    group_keys = column_keys[:n]\n",
    "\n",
    "    def nest(rows: List[Dict[str, Any]], keys: List[str]) -> Dict:\n",
    "        if not keys:\n",
    "            return rows\n",
    "\n",
    "        result = defaultdict(list)\n",
    "        current_key = keys[0]\n",
    "\n",
    "        for row in rows:\n",
    "            group_value = row[current_key]\n",
    "            remaining_row = {k: v for k, v in row.items() if k != current_key}\n",
    "            result[group_value].append(remaining_row)\n",
    "\n",
    "        # Recurse for each group\n",
    "        return {\n",
    "            k: nest(v, keys[1:]) for k, v in result.items()\n",
    "        }\n",
    "\n",
    "    return nest(data, group_keys)"
   ]
  },
  {
   "cell_type": "code",
   "execution_count": null,
   "metadata": {},
   "outputs": [],
   "source": [
    "# For Each Service Rep from Canada, their customer details, total sales per customer and the last purchase date \n",
    "Country = 'Canada'\n",
    "result = conn_1.execute (text(f\"\"\"\n",
    "                                SELECT\n",
    "                                    E.FirstName || ' ' || E.LastName AS SupportRep,\n",
    "                                    E.Email AS SupportEmail,\n",
    "                                    E.Country AS Rep_Country,\n",
    "                                    C.FirstName || ' ' || C.LastName AS Customer,\n",
    "                                    C.Email AS CustomerEmail,\n",
    "                                    SUM(I.Total) AS Total_Invoice,\n",
    "                                    MAX(I.InvoiceDate) AS Last_Invoice\n",
    "                                FROM\n",
    "                                    Customer AS C\n",
    "                                JOIN\n",
    "                                    Invoice AS I ON C.CustomerId = I.CustomerId\n",
    "                                JOIN\n",
    "                                    Employee AS E ON C.SupportRepId = E.EmployeeId\n",
    "                                WHERE\n",
    "                                    E.Country = 'Canada'\n",
    "                                GROUP BY    \n",
    "                                    C.CustomerId\n",
    "                                ORDER BY\n",
    "                                    SupportRep, Customer;\n",
    "                              \"\"\"))\n",
    "\n",
    "# Query output into JSON\n",
    "rows = [row._asdict () for row in result]\n",
    "\n",
    "# Re-align\n",
    "result = group_json_by_n_columns(rows, 1)\n",
    "\n",
    "# Convert to JSON\n",
    "json_output = json.dumps(result,  indent=2)\n",
    "print (json_output)\n",
    "\n",
    "with open ('Output.json', 'w') as f:\n",
    "    f.write (json_output)"
   ]
  },
  {
   "cell_type": "code",
   "execution_count": null,
   "metadata": {},
   "outputs": [],
   "source": [
    "Instr = \"Using the context given, provide response to the user question or statement.\\\n",
    "        Context is in JSON format.\\\n",
    "        Respond in bullet point\"\n",
    "\n",
    "Question = f\"When was the last purchase made by Jane's customer?\"\n",
    "# Question = f\"Puja realised the invoice shall be 20.0. How much is the dispute amount? whom to contact?\"\n",
    "# Question = f\"Which service rep has cumulative customer invoice the highest?\"\n",
    "\n",
    "messages=[\n",
    "    {\n",
    "        \"role\": \"system\",\n",
    "        \"content\": Instr\n",
    "    },\n",
    "\n",
    "    {\n",
    "        \"role\": \"user\",\n",
    "        \"content\":\"Context : \\n\"+ json_output + \"Query : \\n\" + Question\n",
    "    }\n",
    "]\n",
    "completion = client.chat.completions.create(\n",
    "    messages=messages,\n",
    "    model=model,\n",
    "    # temperature=0.0\n",
    ")\n",
    "\n",
    "print (completion.choices[0].message.content)"
   ]
  },
  {
   "cell_type": "markdown",
   "metadata": {},
   "source": [
    ">Numerical calculations across various parts of data, not to rely on LLM  \n",
    ">Instead forumate the SQL to do the math part and use LLM to comprehend and respond"
   ]
  },
  {
   "cell_type": "code",
   "execution_count": null,
   "metadata": {},
   "outputs": [],
   "source": [
    "# For Service Rep in Canada, find the total invoice cumulative invoice for all their customers\n",
    "result = conn_1.execute (text(f\"\"\"\n",
    "                                SELECT\n",
    "                                    E.FirstName || ' ' || E.LastName AS SupportRep,\n",
    "                                    E.Email AS SupportEmail,\n",
    "                                    E.Country AS Rep_Country,\n",
    "                                    SUM(I.Total) AS Total_Invoice,\n",
    "                                    MAX(I.InvoiceDate) AS Last_Invoice\n",
    "                                FROM\n",
    "                                    Customer AS C\n",
    "                                JOIN\n",
    "                                    Invoice AS I ON C.CustomerId = I.CustomerId\n",
    "                                JOIN\n",
    "                                    Employee AS E ON C.SupportRepId = E.EmployeeId\n",
    "                                WHERE\n",
    "                                    E.Country = 'Canada'\n",
    "                                GROUP BY\n",
    "                                    E.EmployeeId\n",
    "                              \"\"\"))\n",
    "\n",
    "# Query output into JSON\n",
    "rows = [row._asdict () for row in result]\n",
    "\n",
    "# Re-align\n",
    "result = group_json_by_n_columns(rows, 1)\n",
    "\n",
    "# Convert to JSON\n",
    "json_output = json.dumps(result,  indent=2)\n",
    "print (json_output)\n",
    "\n",
    "with open ('Output_summary.json', 'w') as f:\n",
    "    f.write (json_output)"
   ]
  },
  {
   "cell_type": "code",
   "execution_count": null,
   "metadata": {},
   "outputs": [],
   "source": [
    "Instr = \"Using the context given, provide response to the user question or statement.\\\n",
    "        Context is in JSON format.\\\n",
    "        Respond in bullet point\"\n",
    "\n",
    "Question = f\"Which service rep has cumulative customer invoice the highest?\"\n",
    "\n",
    "messages=[\n",
    "    {\n",
    "        \"role\": \"system\",\n",
    "        \"content\": Instr\n",
    "    },\n",
    "\n",
    "    {\n",
    "        \"role\": \"user\",\n",
    "        \"content\":\"Context : \\n\"+ json_output + \"Query : \\n\" + Question\n",
    "    }\n",
    "]\n",
    "completion = client.chat.completions.create(\n",
    "    messages=messages,\n",
    "    model=model,\n",
    "    # temperature=0.0\n",
    ")\n",
    "\n",
    "print (completion.choices[0].message.content)"
   ]
  }
 ],
 "metadata": {
  "kernelspec": {
   "display_name": "RAG_Str",
   "language": "python",
   "name": "python3"
  },
  "language_info": {
   "codemirror_mode": {
    "name": "ipython",
    "version": 3
   },
   "file_extension": ".py",
   "mimetype": "text/x-python",
   "name": "python",
   "nbconvert_exporter": "python",
   "pygments_lexer": "ipython3",
   "version": "3.12.8"
  }
 },
 "nbformat": 4,
 "nbformat_minor": 2
}
