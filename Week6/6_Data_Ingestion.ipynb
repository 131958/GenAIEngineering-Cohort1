{
 "cells": [
  {
   "cell_type": "markdown",
   "metadata": {},
   "source": [
    "#### Relevant Imports"
   ]
  },
  {
   "cell_type": "code",
   "execution_count": 18,
   "metadata": {},
   "outputs": [],
   "source": [
    "from sqlalchemy import create_engine, text\n",
    "from sqlalchemy.types import (\n",
    "    Integer, Float, String, DateTime, Boolean\n",
    ")\n",
    "import pandas as pd\n"
   ]
  },
  {
   "cell_type": "code",
   "execution_count": 2,
   "metadata": {},
   "outputs": [],
   "source": [
    "# Map pandas dtypes to SQLAlchemy types\n",
    "def map_dtype(dtype):\n",
    "    if pd.api.types.is_integer_dtype(dtype):\n",
    "        return Integer()\n",
    "    elif pd.api.types.is_float_dtype(dtype):\n",
    "        return Float()\n",
    "    elif pd.api.types.is_bool_dtype(dtype):\n",
    "        return Boolean()\n",
    "    elif pd.api.types.is_datetime64_any_dtype(dtype):\n",
    "        return DateTime()\n",
    "    else:\n",
    "        return String()  # Default for string"
   ]
  },
  {
   "cell_type": "markdown",
   "metadata": {},
   "source": [
    ">Load the CSV file into a pandas data frame  \n",
    ">data frame reads with the relevant types. If needed it can be adjusted (number, date etc)  \n",
    ">mapping can be done to SQLAlchemy"
   ]
  },
  {
   "cell_type": "code",
   "execution_count": null,
   "metadata": {},
   "outputs": [],
   "source": [
    "# Load CSV into DataFrame\n",
    "csv_file = 'Student_Personal_Details.csv'\n",
    "Data = pd.read_csv(csv_file)\n",
    "print (Data.dtypes)"
   ]
  },
  {
   "cell_type": "code",
   "execution_count": 14,
   "metadata": {},
   "outputs": [],
   "source": [
    "# Create SQLite engine using SQLAlchemy\n",
    "engine = create_engine('sqlite:///Sample_2 - Copy.db')"
   ]
  },
  {
   "cell_type": "markdown",
   "metadata": {},
   "source": [
    ">mapping of types"
   ]
  },
  {
   "cell_type": "code",
   "execution_count": null,
   "metadata": {},
   "outputs": [],
   "source": [
    "# Build SQLAlchemy type mapping\n",
    "sql_types = {col: map_dtype(dtype) for col, dtype in Data.dtypes.items()}\n",
    "print (sql_types)"
   ]
  },
  {
   "cell_type": "markdown",
   "metadata": {},
   "source": [
    ">Use pandas method to ingest the data into DB  \n",
    ">Since it is done via sqlalchemy, it can be used for any DB that is linked"
   ]
  },
  {
   "cell_type": "code",
   "execution_count": null,
   "metadata": {},
   "outputs": [],
   "source": [
    "# Write to table using  SQLAlchemy types\n",
    "table_name = 'Student_Details'\n",
    "Data.to_sql(table_name, con=engine, if_exists='replace', index=False, dtype=sql_types)"
   ]
  },
  {
   "cell_type": "markdown",
   "metadata": {},
   "source": [
    ">Check if the data is persisting in the database"
   ]
  },
  {
   "cell_type": "code",
   "execution_count": null,
   "metadata": {},
   "outputs": [],
   "source": [
    "# Launch a query on newly created table\n",
    "conn = engine.connect ()\n",
    "\n",
    "Result = conn.execute (text(\"select * from Student_Details limit 10\"))\n",
    "\n",
    "for row in Result:\n",
    "    print (row)"
   ]
  }
 ],
 "metadata": {
  "kernelspec": {
   "display_name": "RAG_Str",
   "language": "python",
   "name": "python3"
  },
  "language_info": {
   "codemirror_mode": {
    "name": "ipython",
    "version": 3
   },
   "file_extension": ".py",
   "mimetype": "text/x-python",
   "name": "python",
   "nbconvert_exporter": "python",
   "pygments_lexer": "ipython3",
   "version": "3.12.8"
  }
 },
 "nbformat": 4,
 "nbformat_minor": 2
}
