{
 "cells": [
  {
   "cell_type": "markdown",
   "metadata": {},
   "source": [
    "#### Relevant Imports"
   ]
  },
  {
   "cell_type": "code",
   "execution_count": 42,
   "metadata": {},
   "outputs": [],
   "source": [
    "from sqlalchemy import create_engine, text\n",
    "import json\n",
    "from collections import defaultdict\n",
    "from typing import List, Dict, Any\n",
    "import csv"
   ]
  },
  {
   "cell_type": "markdown",
   "metadata": {},
   "source": [
    "**SQLite DB**  \n",
    "Let us connect to the SQLite Sample Database what we have  \n",
    "Note the difference in terms of connection"
   ]
  },
  {
   "cell_type": "code",
   "execution_count": 2,
   "metadata": {},
   "outputs": [],
   "source": [
    "# There is an engine instance created, which can handle multiple connetions\n",
    "sql_engine = create_engine(\"sqlite:///Sample_1 - Copy.db\")\n",
    "conn_1 = sql_engine.connect ()"
   ]
  },
  {
   "cell_type": "markdown",
   "metadata": {},
   "source": [
    "**Output in a Narrative format**  \n",
    "Data output from query based on the columns being fetched can be concatenated by natural language to form sentences  \n",
    "This gives a ability to be passed directlty as context"
   ]
  },
  {
   "cell_type": "code",
   "execution_count": 59,
   "metadata": {},
   "outputs": [
    {
     "name": "stdout",
     "output_type": "stream",
     "text": [
      "Manoj Pareek made a purchse via invoice (#412) on 2011-12-22 00:00:00 for a total of 1.99.\n",
      "Terhi Hämäläinen made a purchse via invoice (#411) on 2011-12-14 00:00:00 for a total of 13.86.\n",
      "Madalena Sampaio made a purchse via invoice (#410) on 2011-12-09 00:00:00 for a total of 8.91.\n",
      "Robert Brown made a purchse via invoice (#409) on 2011-12-06 00:00:00 for a total of 5.94.\n",
      "Victor Stevens made a purchse via invoice (#408) on 2011-12-05 00:00:00 for a total of 3.96.\n",
      "Kathy Chase made a purchse via invoice (#406) on 2011-12-04 00:00:00 for a total of 1.98.\n",
      "John Gordon made a purchse via invoice (#407) on 2011-12-04 00:00:00 for a total of 1.98.\n",
      "Dan Miller made a purchse via invoice (#405) on 2011-11-21 00:00:00 for a total of 0.99.\n",
      "Helena Holý made a purchse via invoice (#404) on 2011-11-13 00:00:00 for a total of 25.86.\n",
      "Diego Gutiérrez made a purchse via invoice (#403) on 2011-11-08 00:00:00 for a total of 8.91.\n"
     ]
    }
   ],
   "source": [
    "# Pull out last 10 purchases made with customer details \n",
    "result = conn_1.execute (text(\"\"\"\n",
    "                                SELECT c.FirstName, c.LastName, i.InvoiceId, i.InvoiceDate, i.Total\n",
    "                                FROM Customer c\n",
    "                                JOIN Invoice i ON c.CustomerId = i.CustomerId\n",
    "                                ORDER BY i.InvoiceDate DESC\n",
    "                                LIMIT 10; \"\"\"))\n",
    "\n",
    "rows = result.fetchall()\n",
    "\n",
    "# Make each row into a sentence\n",
    "sentences = []\n",
    "for row in rows:\n",
    "    first, last, invoice_id, date, total = row\n",
    "    sentence = f\"{first} {last} made a purchse via invoice (#{invoice_id}) on {date} for a total of {total:.2f}.\"\n",
    "    sentences.append(sentence)\n",
    "\n",
    "for s in sentences:\n",
    "    print(s)  \n"
   ]
  },
  {
   "cell_type": "markdown",
   "metadata": {},
   "source": [
    "**Output in a CSV format**  \n",
    "Data output from query based on the columns being fetched can be made into CSV format by delimiter  \n",
    "CSV is one of the structure format of providing input to LLM"
   ]
  },
  {
   "cell_type": "code",
   "execution_count": null,
   "metadata": {},
   "outputs": [],
   "source": [
    "#Top Customers by Spending on Rock Genre\n",
    "result = conn_1.execute (text(\"\"\"\n",
    "                                SELECT CU.CustomerId, CU.FirstName, CU.LastName, SUM(IL.UnitPrice * IL.Quantity) AS RockTotalSpent\n",
    "                                FROM Customer CU\n",
    "                                JOIN Invoice IV ON CU.CustomerId = IV.CustomerId\n",
    "                                JOIN InvoiceLine IL ON IV.InvoiceId = IL.InvoiceId\n",
    "                                JOIN Track TR ON IL.TrackId = TR.TrackId\n",
    "                                JOIN Genre GE ON TR.GenreId = GE.GenreId\n",
    "                                WHERE GE.Name = 'Rock'\n",
    "                                GROUP BY CU.CustomerId\n",
    "                                ORDER BY RockTotalSpent DESC\n",
    "                                LIMIT 10\"\"\"))\n",
    "\n",
    "rows = result.fetchall()\n",
    "\n",
    "columns = [desc[0] for desc in conn_1.description]\n",
    "\n",
    "# Write to CSV\n",
    "with open(\"top_rock_customers.csv\", \"w\", newline=\"\") as f:\n",
    "    writer = csv.writer(f)\n",
    "    writer.writerow(columns)\n",
    "    writer.writerows(rows)"
   ]
  },
  {
   "cell_type": "markdown",
   "metadata": {},
   "source": [
    "**Data into JSON**\n",
    "\n",
    "The output data from query is being converted into a JSON data.  \n",
    "This can be stored as JSON file as well."
   ]
  },
  {
   "cell_type": "code",
   "execution_count": null,
   "metadata": {},
   "outputs": [],
   "source": [
    "# Query data for Genere wise total sales from the invoice data\n",
    "result = conn_1.execute(text(\"SELECT GN.Name AS Genre, SUM(INV.UnitPrice * INV.Quantity) AS TotalSales\\\n",
    "                                FROM InvoiceLine INV\\\n",
    "                                JOIN Track TR ON INV.TrackId = TR.TrackId\\\n",
    "                                JOIN Genre GN ON TR.GenreId = GN.GenreId\\\n",
    "                                GROUP BY GN.Name ORDER BY TotalSales DESC;\"))\n",
    "# Query output into JSON\n",
    "rows = [row._asdict () for row in result]\n",
    "\n",
    "# Convert to JSON\n",
    "json_output = json.dumps(rows,  indent=2)\n",
    "print(json_output)\n",
    "\n"
   ]
  },
  {
   "cell_type": "markdown",
   "metadata": {},
   "source": [
    "**Multi-level JSON**\n",
    "If there are complex data to be fetched, the SQL query will eventually return as a table by nature  \n",
    "This can be be convered to required level of nesting in JSON"
   ]
  },
  {
   "cell_type": "markdown",
   "metadata": {},
   "source": [
    "> This function does the re-alignment of the output from table format to a specific level of nesting in JSON  \n",
    "> Practically the complex data can make better meaning with correct JSON nesting"
   ]
  },
  {
   "cell_type": "code",
   "execution_count": 50,
   "metadata": {},
   "outputs": [],
   "source": [
    "def group_json_by_n_columns(data: List[Dict[str, Any]], n: int) -> Dict:\n",
    "    \n",
    "    if not data:\n",
    "        return {}\n",
    "\n",
    "    # If n is 1, there is no need for re-aligning\n",
    "    if n < 1:\n",
    "        raise ValueError(\"n must be at least 1\")\n",
    "\n",
    "    # Check if those many columns are there\n",
    "    column_keys = list(data[0].keys())\n",
    "    if n > len(column_keys):\n",
    "        raise ValueError(f\"n = {n} exceeds number of columns = {len(column_keys)}\")\n",
    "\n",
    "    group_keys = column_keys[:n]\n",
    "\n",
    "    def nest(rows: List[Dict[str, Any]], keys: List[str]) -> Dict:\n",
    "        if not keys:\n",
    "            return rows\n",
    "\n",
    "        result = defaultdict(list)\n",
    "        current_key = keys[0]\n",
    "\n",
    "        for row in rows:\n",
    "            group_value = row[current_key]\n",
    "            remaining_row = {k: v for k, v in row.items() if k != current_key}\n",
    "            result[group_value].append(remaining_row)\n",
    "\n",
    "        # Recurse for each group\n",
    "        return {\n",
    "            k: nest(v, keys[1:]) for k, v in result.items()\n",
    "        }\n",
    "\n",
    "    return nest(data, group_keys)"
   ]
  },
  {
   "cell_type": "markdown",
   "metadata": {},
   "source": [
    ">For each Album list the tracks and track wise sales"
   ]
  },
  {
   "cell_type": "code",
   "execution_count": null,
   "metadata": {},
   "outputs": [],
   "source": [
    "# Query makes the information as 2D output (always table)\n",
    "data = conn_1.execute (text(\"\"\"\n",
    "                                SELECT \n",
    "                                    ALB.Title AS AlbumTitle, TRK.TrackId, TRK.Name AS TrackName, il.InvoiceId, il.UnitPrice, il.Quantity, (il.UnitPrice * il.Quantity) AS LineTotal\n",
    "                                FROM Album ALB\n",
    "                                JOIN Track TRK ON ALB.AlbumId = TRK.AlbumId\n",
    "                                LEFT JOIN InvoiceLine il ON TRK.TrackId = il.TrackId\n",
    "                                ORDER BY ALB.Title, TRK.Name, il.InvoiceId;\n",
    "                                \"\"\"))\n",
    "\n",
    "\n",
    "# Re-align the JSON level\n",
    "rows = [row._asdict () for row in data]\n",
    "result = group_json_by_n_columns(rows, 1)\n",
    "print(json.dumps(result, indent=2))\n"
   ]
  },
  {
   "cell_type": "markdown",
   "metadata": {},
   "source": [
    "> Fetch Genere wise Tracks the sales"
   ]
  },
  {
   "cell_type": "code",
   "execution_count": null,
   "metadata": {},
   "outputs": [],
   "source": [
    "# For each Album list the tracks and track wise sales\n",
    "# Query makes the information as 2D output (always table)\n",
    "data = conn_1.execute (text(\"\"\"\n",
    "                                SELECT GN.Name AS GenreName, AR.Name AS ArtistName, TR.Name AS TrackName, TR.UnitPrice\n",
    "                                FROM Genre GN\n",
    "                                JOIN Track TR ON GN.GenreId = TR.GenreId\n",
    "                                JOIN Album al ON TR.AlbumId = al.AlbumId\n",
    "                                JOIN Artist AR ON al.ArtistId = AR.ArtistId\n",
    "                                ORDER BY GN.Name, AR.Name, TR.Name;\n",
    "                            \"\"\"))\n",
    "\n",
    "\n",
    "# Re-align the JSON level\n",
    "rows = [row._asdict () for row in data]\n",
    "result = group_json_by_n_columns(rows, 1)\n",
    "print(json.dumps(result, indent=2))\n",
    "\n",
    "# Write output to a file\n",
    "with open ('Output.json', 'w') as File:\n",
    "    json.dump (result, File, indent=2)"
   ]
  },
  {
   "cell_type": "code",
   "execution_count": null,
   "metadata": {},
   "outputs": [],
   "source": [
    "# Consolidated information from 3 tables\n",
    "result = conn_1.execute (text(\n",
    "                                \"SELECT fn.rfam_id, fn.ncbi_id, t.species, f.rfam_id AS family_rfam_id, f.auto_wiki, f.description\\\n",
    "                                FROM family_ncbi fn\\\n",
    "                                JOIN taxonomy t ON fn.ncbi_id = t.ncbi_id\\\n",
    "                                JOIN family f ON fn.rfam_acc = f.rfam_acc\\\n",
    "                                WHERE fn.rfam_acc = 'RF01530'\"))\n",
    "\n",
    "rows = result.fetchall ()\n",
    "print (rows)\n",
    "  "
   ]
  }
 ],
 "metadata": {
  "kernelspec": {
   "display_name": "RAG_Str",
   "language": "python",
   "name": "python3"
  },
  "language_info": {
   "codemirror_mode": {
    "name": "ipython",
    "version": 3
   },
   "file_extension": ".py",
   "mimetype": "text/x-python",
   "name": "python",
   "nbconvert_exporter": "python",
   "pygments_lexer": "ipython3",
   "version": "3.12.8"
  }
 },
 "nbformat": 4,
 "nbformat_minor": 2
}
