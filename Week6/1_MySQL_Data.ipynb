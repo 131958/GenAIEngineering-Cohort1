{
 "cells": [
  {
   "cell_type": "markdown",
   "metadata": {},
   "source": [
    "#### Relevant Imports"
   ]
  },
  {
   "cell_type": "code",
   "execution_count": 21,
   "metadata": {},
   "outputs": [],
   "source": [
    "from sqlalchemy import create_engine, text"
   ]
  },
  {
   "cell_type": "markdown",
   "metadata": {},
   "source": [
    "**Engine**  \n",
    "Engine is the abstract object from SQLAlchmey which connects to a host to particular Database  \n",
    "In an an engine further connections can be created to query data  \n",
    "This generic concepts make it Database agnostic"
   ]
  },
  {
   "cell_type": "code",
   "execution_count": 25,
   "metadata": {},
   "outputs": [],
   "source": [
    "# There is an engine instance created, which can handle multiple connetions\n",
    "sql_engine = create_engine(\"mysql+pymysql://rfamro:@mysql-rfam-public.ebi.ac.uk:4497/Rfam\")"
   ]
  },
  {
   "cell_type": "markdown",
   "metadata": {},
   "source": [
    "**Connection and Query**\n",
    "Connection object creates a connection (its within the object)  \n",
    "Then it is used to raise query (Execute Query String)"
   ]
  },
  {
   "cell_type": "code",
   "execution_count": 41,
   "metadata": {},
   "outputs": [
    {
     "name": "stdout",
     "output_type": "stream",
     "text": [
      "(10736534,)\n",
      "<class 'sqlalchemy.engine.row.Row'>\n"
     ]
    }
   ],
   "source": [
    "# Create a Connection in engine and raise a query to get data\n",
    "conn_1 = sql_engine.connect ()\n",
    "result = conn_1.execute(text(\"SELECT COUNT(*) FROM full_region;\"))\n",
    "\n",
    "# Fetch the result content\n",
    "for row in result:\n",
    "\n",
    "    print (row)\n",
    "    print (type(row))\n",
    "\n"
   ]
  },
  {
   "cell_type": "code",
   "execution_count": null,
   "metadata": {},
   "outputs": [],
   "source": [
    "# Get more data, parallelly from another connection in same engine\n",
    "conn_2 = sql_engine.connect ()\n",
    "result = conn_2.execute(text(\"SELECT * FROM full_region LIMIT 10;\"))\n",
    "\n",
    "# Fetch the result content\n",
    "print (result.keys())\n",
    "for row in result:\n",
    "\n",
    "    print (row)\n",
    "    print (type(row))\n"
   ]
  },
  {
   "cell_type": "code",
   "execution_count": 44,
   "metadata": {},
   "outputs": [
    {
     "name": "stdout",
     "output_type": "stream",
     "text": [
      "(14,)\n"
     ]
    }
   ],
   "source": [
    "# For a Given value of rfam_acc, how many Ncbi Id\n",
    "result = conn_1.execute (text(\n",
    "                             \"SELECT COUNT(DISTINCT fn.ncbi_id) AS ncbi_count\\\n",
    "                            FROM family_ncbi fn\\\n",
    "                            WHERE fn.rfam_acc = 'RF01530';\"))\n",
    "\n",
    "for row in result:\n",
    "\n",
    "    print (row)    \n"
   ]
  },
  {
   "cell_type": "markdown",
   "metadata": {},
   "source": [
    "**Data from multiple tables**  \n",
    "Data from multiple table can be collated by the linking fields by JOIN queries"
   ]
  },
  {
   "cell_type": "code",
   "execution_count": null,
   "metadata": {},
   "outputs": [],
   "source": [
    "# For a Given value of rfam_acc, how many species are present in another table based on its ncbi_id\n",
    "result = conn_1.execute (text(\n",
    "                             \"SELECT DISTINCT fn.rfam_acc, fn.ncbi_id, t.species AS species\\\n",
    "                            FROM family_ncbi fn\\\n",
    "                            JOIN taxonomy t ON fn.ncbi_id = t.ncbi_id\\\n",
    "                            WHERE fn.rfam_acc = 'RF01530'\"))\n",
    "\n",
    "for row in result:\n",
    "\n",
    "    print (row)    \n"
   ]
  },
  {
   "cell_type": "code",
   "execution_count": null,
   "metadata": {},
   "outputs": [],
   "source": [
    "# Consolidated information from 3 tables\n",
    "result = conn_1.execute (text(\n",
    "                                \"SELECT fn.rfam_id, fn.ncbi_id, t.species, f.rfam_id AS family_rfam_id, f.auto_wiki, f.description\\\n",
    "                                FROM family_ncbi fn\\\n",
    "                                JOIN taxonomy t ON fn.ncbi_id = t.ncbi_id\\\n",
    "                                JOIN family f ON fn.rfam_acc = f.rfam_acc\\\n",
    "                                WHERE fn.rfam_acc = 'RF01530'\"))\n",
    "\n",
    "rows = result.fetchall ()\n",
    "print (rows)\n",
    "  "
   ]
  }
 ],
 "metadata": {
  "kernelspec": {
   "display_name": "RAG_Str",
   "language": "python",
   "name": "python3"
  },
  "language_info": {
   "codemirror_mode": {
    "name": "ipython",
    "version": 3
   },
   "file_extension": ".py",
   "mimetype": "text/x-python",
   "name": "python",
   "nbconvert_exporter": "python",
   "pygments_lexer": "ipython3",
   "version": "3.12.8"
  }
 },
 "nbformat": 4,
 "nbformat_minor": 2
}
